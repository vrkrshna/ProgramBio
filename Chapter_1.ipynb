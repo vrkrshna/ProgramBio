{
 "cells": [
  {
   "cell_type": "code",
   "execution_count": 2,
   "metadata": {
    "collapsed": false
   },
   "outputs": [
    {
     "name": "stdout",
     "output_type": "stream",
     "text": [
      "hello world\n",
      "Hello World\n"
     ]
    }
   ],
   "source": [
    "# hello world\n",
    "print('hello world')\n",
    "print(\"Hello World\")"
   ]
  },
  {
   "cell_type": "code",
   "execution_count": 9,
   "metadata": {
    "collapsed": false
   },
   "outputs": [
    {
     "name": "stdout",
     "output_type": "stream",
     "text": [
      "She said, 'Hello world'\n",
      "He said, \"Hello, world\"\n",
      "Hello\n",
      "world\n",
      "Hello\n",
      "world\n"
     ]
    }
   ],
   "source": [
    "# printing quotation marks\n",
    "print(\"She said, 'Hello world'\")\n",
    "print('He said, \"Hello, world\"')\n",
    "print('Hello\\nworld')\n",
    "print(\"Hello\\nworld\")"
   ]
  },
  {
   "cell_type": "code",
   "execution_count": 11,
   "metadata": {
    "collapsed": false
   },
   "outputs": [
    {
     "name": "stdout",
     "output_type": "stream",
     "text": [
      "ATGCGTA\n",
      "TGGTCCA\n"
     ]
    }
   ],
   "source": [
    "# store a DNA sequence\n",
    "my_dna = 'ATGCGTA'\n",
    "\n",
    "# print the DNA sequence\n",
    "print(my_dna)\n",
    "\n",
    "# change the value, then print it again\n",
    "my_dna = 'TGGTCCA'\n",
    "print(my_dna)"
   ]
  },
  {
   "cell_type": "code",
   "execution_count": 18,
   "metadata": {
    "collapsed": false
   },
   "outputs": [
    {
     "name": "stdout",
     "output_type": "stream",
     "text": [
      "AATTGGCC\n",
      "my_dna is now AAAATGCGGG\n"
     ]
    }
   ],
   "source": [
    "# concatenating strings\n",
    "my_dna = 'AATT' + 'GGCC'\n",
    "print(my_dna)\n",
    "\n",
    "upstream = 'AAA'\n",
    "downstream = 'GGG'\n",
    "my_dna = upstream + 'ATGC' + downstream\n",
    "print(\"my_dna is now \" + my_dna)"
   ]
  },
  {
   "cell_type": "code",
   "execution_count": 21,
   "metadata": {
    "collapsed": false
   },
   "outputs": [
    {
     "name": "stdout",
     "output_type": "stream",
     "text": [
      "10\n",
      "10\n"
     ]
    }
   ],
   "source": [
    "# calculate length of sequence\n",
    "dna_length = len(my_dna)\n",
    "print(dna_length)\n",
    "print(len(my_dna))"
   ]
  },
  {
   "cell_type": "code",
   "execution_count": 24,
   "metadata": {
    "collapsed": false
   },
   "outputs": [
    {
     "name": "stdout",
     "output_type": "stream",
     "text": [
      "The length of the DNA sequence is 10 nt\n"
     ]
    }
   ],
   "source": [
    "# concatenating strings and numbers\n",
    "print(\"The length of the DNA sequence is \" + str(dna_length) + \" nt\")"
   ]
  },
  {
   "cell_type": "code",
   "execution_count": 25,
   "metadata": {
    "collapsed": false
   },
   "outputs": [
    {
     "name": "stdout",
     "output_type": "stream",
     "text": [
      "['__add__', '__class__', '__contains__', '__delattr__', '__dir__', '__doc__', '__eq__', '__format__', '__ge__', '__getattribute__', '__getitem__', '__getnewargs__', '__gt__', '__hash__', '__init__', '__iter__', '__le__', '__len__', '__lt__', '__mod__', '__mul__', '__ne__', '__new__', '__reduce__', '__reduce_ex__', '__repr__', '__rmod__', '__rmul__', '__setattr__', '__sizeof__', '__str__', '__subclasshook__', 'capitalize', 'casefold', 'center', 'count', 'encode', 'endswith', 'expandtabs', 'find', 'format', 'format_map', 'index', 'isalnum', 'isalpha', 'isdecimal', 'isdigit', 'isidentifier', 'islower', 'isnumeric', 'isprintable', 'isspace', 'istitle', 'isupper', 'join', 'ljust', 'lower', 'lstrip', 'maketrans', 'partition', 'replace', 'rfind', 'rindex', 'rjust', 'rpartition', 'rsplit', 'rstrip', 'split', 'splitlines', 'startswith', 'strip', 'swapcase', 'title', 'translate', 'upper', 'zfill']\n"
     ]
    }
   ],
   "source": [
    "# the dir() function lists all of the available variables and methods nested within a specified variable\n",
    "print(dir(my_dna))"
   ]
  },
  {
   "cell_type": "code",
   "execution_count": 26,
   "metadata": {
    "collapsed": false
   },
   "outputs": [
    {
     "name": "stdout",
     "output_type": "stream",
     "text": [
      "aaaatgcggg\n"
     ]
    }
   ],
   "source": [
    "# use the dot notation to access these methods\n",
    "# print 'my_dna' in lower case\n",
    "print(my_dna.lower())"
   ]
  },
  {
   "cell_type": "code",
   "execution_count": 30,
   "metadata": {
    "collapsed": false
   },
   "outputs": [
    {
     "name": "stdout",
     "output_type": "stream",
     "text": [
      "before: AAAATGCGGG\n",
      "after: AAAATGCGGG\n",
      "aAAATGCGGG\n"
     ]
    }
   ],
   "source": [
    "# lower() does not change the variable value itself\n",
    "# print the variable\n",
    "print(\"before: \" + my_dna)\n",
    "\n",
    "# run the method, store the result, and print it again\n",
    "lowercase_dna = my_dna.lower()\n",
    "print(\"after: \" + my_dna)\n",
    "\n",
    "# Perl's lcfirst\n",
    "print(my_dna.title().swapcase())"
   ]
  },
  {
   "cell_type": "code",
   "execution_count": 31,
   "metadata": {
    "collapsed": false
   },
   "outputs": [
    {
     "name": "stdout",
     "output_type": "stream",
     "text": [
      "ylspadktny\n",
      "ymtpadktnv\n",
      "vlspadktnv\n"
     ]
    }
   ],
   "source": [
    "# replacement\n",
    "protein = \"vlspadktnv\"\n",
    "\n",
    "# replace valine with tyrosine\n",
    "print(protein.replace(\"v\", \"y\"))\n",
    "\n",
    "# we can replace more than one character\n",
    "print(protein.replace(\"vls\", \"ymt\"))\n",
    "\n",
    "# the original variable is not affected\n",
    "print(protein)"
   ]
  },
  {
   "cell_type": "code",
   "execution_count": 38,
   "metadata": {
    "collapsed": false
   },
   "outputs": [
    {
     "name": "stdout",
     "output_type": "stream",
     "text": [
      "vls\n",
      "spa\n",
      "v\n"
     ]
    }
   ],
   "source": [
    "# extracting part of a string (substring-ing)\n",
    "# strings are like lists of letters\n",
    "\n",
    "# print the first three letters\n",
    "print(protein[0:3])\n",
    "\n",
    "# print positions 3-5\n",
    "print(protein[2:5])\n",
    "\n",
    "# print last position\n",
    "print(protein[len(protein)-1])\n"
   ]
  },
  {
   "cell_type": "code",
   "execution_count": 1,
   "metadata": {
    "collapsed": false
   },
   "outputs": [
    {
     "name": "stdout",
     "output_type": "stream",
     "text": [
      "valines: 2\n",
      "lsp: 1\n",
      "tryptophans: 0\n"
     ]
    }
   ],
   "source": [
    "# counting and finding substrings\n",
    "protein = \"vlspadktnv\"\n",
    "\n",
    "# count particular amino acid residues\n",
    "valine_count     = protein.count('v')\n",
    "lsp_count        = protein.count('lsp')\n",
    "tryptophan_count = protein.count('w')\n",
    "\n",
    "# print the counts\n",
    "print( 'valines: ' + str(valine_count))\n",
    "print( 'lsp: ' + str(lsp_count))\n",
    "print( 'tryptophans: ' + str(tryptophan_count))"
   ]
  },
  {
   "cell_type": "code",
   "execution_count": 2,
   "metadata": {
    "collapsed": false
   },
   "outputs": [
    {
     "name": "stdout",
     "output_type": "stream",
     "text": [
      "0\n",
      "1\n",
      "-1\n"
     ]
    }
   ],
   "source": [
    "# find the locations of *exact* substrings with find()\n",
    "# limited also in that it only returns location of the *first* occurrence of a string\n",
    "print(protein.find('v'))\n",
    "print(protein.find('lsp'))\n",
    "print(protein.find('w'))"
   ]
  },
  {
   "cell_type": "code",
   "execution_count": null,
   "metadata": {
    "collapsed": true
   },
   "outputs": [],
   "source": []
  }
 ],
 "metadata": {
  "anaconda-cloud": {},
  "kernelspec": {
   "display_name": "Python [default]",
   "language": "python",
   "name": "python3"
  },
  "language_info": {
   "codemirror_mode": {
    "name": "ipython",
    "version": 3
   },
   "file_extension": ".py",
   "mimetype": "text/x-python",
   "name": "python",
   "nbconvert_exporter": "python",
   "pygments_lexer": "ipython3",
   "version": "3.5.2"
  }
 },
 "nbformat": 4,
 "nbformat_minor": 1
}
