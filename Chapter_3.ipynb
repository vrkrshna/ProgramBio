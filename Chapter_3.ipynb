{
 "cells": [
  {
   "cell_type": "code",
   "execution_count": 1,
   "metadata": {
    "collapsed": true
   },
   "outputs": [],
   "source": [
    "my_file = open(\"dna.txt\")"
   ]
  },
  {
   "cell_type": "code",
   "execution_count": 2,
   "metadata": {
    "collapsed": false
   },
   "outputs": [
    {
     "name": "stdout",
     "output_type": "stream",
     "text": [
      "abcdefg\n",
      "43\n"
     ]
    }
   ],
   "source": [
    "my_string = 'abcdefg'\n",
    "print(my_string)\n",
    "my_number = 42\n",
    "print(my_number + 1)"
   ]
  },
  {
   "cell_type": "code",
   "execution_count": 3,
   "metadata": {
    "collapsed": false
   },
   "outputs": [
    {
     "name": "stdout",
     "output_type": "stream",
     "text": [
      "ttctatgctcctatattgataagaataaacttaatactataaatgaggtgttagggatttaattattctttattgatata\n",
      "aaaagtcctagcaatccaaatgggattgctaggaccaaacaaagtagattatatagcataaataggtttaattttgctac\n",
      "gggggcgttatttaggttttttcttctttcgaaaaaatctttctttatgaagttaaaagctatgtattcaatagcatatt\n",
      "ttgaatatggacatagaatagtgcttatcactattgcatatagcatcttatctgacacaaggaaataatacccttcgctg\n",
      "ttttttgttataaggtatatatatataagtgtgcagtacaggccaaataaaatattttttatgtagtatcttaagctcat\n",
      "aaattaaacctcgccatatattcttttcattttataaggatcgagttatgaggaaaagattttttgtgggaatattcgcg\n",
      "ataaacctccttgttggatgtcaggctaactatatacctgatgttcagggagggaccatcgcaccatcctcctcttctaa\n",
      "actgacggggatcgcggttcagtagaaaagattaaaggatcttcttgagatcctttttttctgcgcgtaatctgctgctt\n",
      "gcaaacaaaaaaaccaccgctaccaacggtggtttgtttgccggatcaagagctaccaactctttttccgaaggtaactg\n",
      "gcttcagcagagcgcagataccaaatactgtccttctagtgtagccgtagtcgggccactacttcaagaactctgtagca\n",
      "ccgtttgtgccatcatcgctctgctaatccggttaccagtggctgctgccagtggcgttaaggcgtgccttaccgggttg\n",
      "gactcaagacgatagttaccggataaggcgcagcggtcgggctgaacggggggttcgtgcacacagcccagcttggagcg\n",
      "aacgacctacaccgaactgagataccaacagcgtgagctatgagaaagcgccacgcttcccgaagggagaaaggcggaca\n",
      "ggtatccggtaagcggcagggtcggaacaggagagcgcacgagggagcttccagggggaaacgcctggtagctttatagt\n",
      "cctgtcgggtttcgccacctctgacttgagcgtctatttttgtgatgctcgtcaggggggcggagcctatggaaaaacgc\n",
      "ctgctacgtggccttcttcctgttcctggtcttttgctcacatgttctttccggccttatcccctgattctgtggataac\n",
      "tgtgttaccgtttttgtgtgagtcagtaccgctcgccgcagtcgaacgaccgagcgtagcgagtcagtgagcgaggaagc\n",
      "ggaaaagcgcctggacgtgcattttctccttacgcatctgtgcggcatttcacacccggcatggcgtacttttcatacaa\n",
      "tccgcactgatgccgcatggttaagccagtatacactccgctatcgctacgtgactgggtcagggctgcgccccgacacc\n",
      "cgctaaaacctgctgacgcgccctgacgggcttgtcagctcccggcatccgctcacagacaagctgtgaccgtctccggg\n",
      "agctgcatgtgtcagaggttttcaccgtcatccccgaaacgtgcgaggcagctgcggtaaagctcatcggcgtggtcgtg\n",
      "aagcgattcacaaatatcggcctgttcatctgcgtccagttcgttgagcttctccagcagcgttaatgtctggcttctga\n",
      "taaagcgggccatgttaagggcggttttttcctgtttagtcactgatgcctccgtgtaagggggatttctgttcatgggg\n",
      "taatgataccgatgaaacgcgagaggatgctcacaatacgggttactgatgatgaacatgcccggttacttgaacgctgt\n",
      "gagggtaaacaactggcggtatggatgcggcgggtctgcctgggggagccggttgcccgttccggaaaactgccgacact\n",
      "ggcaccgccgttactgcgtcagctggccgccatcggaaataacctgaatcagacagcccgtaaggtgaacagcgggcagt\n",
      "ggtcttccggtgaccgggttcaggtggtggccgcactgatggccatcggggatgagctgcgccggctgcgtctggctgtc\n",
      "agggaacagggggcgcgggatgatagttaaatttcatgccaggggaaaaggtggtggcagtggtccggttgattacctgc\n",
      "tggggagggagcgtaaccgcgaaggcgcaacggtgcttcagggtataccggaagaagtccgggaactcatcgatgccacg\n",
      "ccatttgcgaagaaatacacgtccggtgttctgtcgttcgcggagaaggagctgccgccgggaggacgtgaaaaagtgat\n",
      "ggcgagctttgagcgtgtactgatgcccggtctcgaaaaaaatcagtacagcatcctgtgggtggagcaccaggacaagg\n",
      "gacggcttgagctgaattttgtcattccgaacatggagctacagaccggaaaacgcctccagccgtactacgaccgcgca\n",
      "gacaggcctagaattgatgcttggcagacgctgttaaatcaccattacgggctgcatgacccgaacgccccggagaaccg\n",
      "caggacgctgacactccctgataacctgcctgaaacgaaacaggcgcttgctgagggcgtcacgcgaggtatagatgcac\n",
      "tttaccatgccggagagataaaaggccgtcaggatgtgattcaggcgctcactgaggcggggctggaagtggtcagggtg\n",
      "acgcgaagcagtatcagcattgcagatccgaacggcgggaagaatatcaggctgaaaggagcattttatgagcaatcttt\n",
      "tgcagacgggcgcggagttcgagaaaaagctgaaagagagagccgaatctacagagaaaatgctgaacaacgagttcagg\n",
      "aggctcggcgaatctgtaagcgaggctgtgacatcaaacgagacgaaaatcagagacgctatagccctgttcacagcctc\n",
      "gacagaggaatcgctggaaaaacaccgggaaggggtgaaagaggcgatgatgcagcacaggagggacgtgttaaagctgg\n",
      "cagggaatacgggcatgatgttactggggatagtctttctcctgtttaccgcgagtggcgggacgctctggtatcttgga\n",
      "gggaggatacaggcgaacctggaagaaatcaggaagcaggaagagacattgcagaaactgaacgcgaagacatggggcgt\n",
      "ggagtttgtgcaggacgggaacaggaaattccttgtccttccgtacgggaaatcagcggaggtgattccctttcagggga\n",
      "aagagtgggtacatctgaaggagtgacacagagtgacagagctggaaacacatttgctgaacgccttagagcagctgcaa\n",
      "caggactatatgcagcggctgagcgaatgggagagcgccttcgtggaattgcagaagatgttttcgcttacgcaacggga\n",
      "caacgcgatgctgaacgagcgggtcatgcagttgagtcagcaggtgcaacacttgagcgagcagacagaacgcttgagcc\n",
      "agttatacagcgagaactggagataagagaggaacggctgatacaggagcgcgaacatgtgttatccctagaacgggagc\n",
      "gtcagccggaaatacaggaacgcacgctggatggcccttcgctgggatggtgaaaccatgaaaaatggcagcttcagtgg\n",
      "attaagtgggggtaatgtggcctgtaccctctggttgcataggtattcatacggttaaaatttatcaggcgcgatcgcgc\n",
      "agtttttagggtggtttgttgccatttttacctgtctgctgccgtgatcgcgctgaacgcgttttagcggtgcgtacaat\n",
      "taagggattatggtaaatccacttactgtctgccctcgtagccatcgagataaaccgcagaaatcgtgtcagccagcagc\n",
      "ctggattttttcggggtaaggtctttgctgcggtaatcagtacccgcaaattgagttgtgccccggagtgagtttaaaaa\n",
      "ttcttggctgtgaaactgctgaatgcgttgttgcacatcactccgtgattttcctgtcgctttgtctttagctcccatat\n",
      "cccagaactgccgaaaaaaaggcaccatcattcgtgttgtgtcggctttttgggtggaaaagttgggatcaaaaccgtca\n",
      "tcagaagcatatacgtaatgccgggtatgttgttccacgctgccctttggggtacaggctgtgagagctactgttgctgt\n",
      "tatcatggcgataagacaaagtttgtttccggtacgtctcatgagtgtctccctaccttaaagtatttattctcggtgag\n",
      "ttattatccgaagactattttatcatcagtctctgacagcgttcagcgaccgaacaacctggaccagaatccccgtttct\n",
      "tttccagttccagtgcctgcctgagctgggctatctcattttgtagctgttcccgttctgcttcctggcgtctgcgatcc\n",
      "atatcctgtgcctgtttatcctcaagcatcagcgtcaggcattgtttcagctcattcagttcccggagaatgcgttctgt\n",
      "ctgctgatcatgtggattttctgcatgtccctcactgtgcctttctggtgtctcattctgctttaattcgccgtatgccc\n",
      "ggatcagttcactggtttcaaactcccgtcgtccgtccctgccggtacggtaactgacaaggcctccgcgcatatcacgg\n",
      "taaaactgtgaacgcgatctgcctgtcatttttagtgcgtcccggagtgtgtgccatgccataaagtgacagtgtcccat\n",
      "agatgtctcatctcatagtttcagtaaaacataatgaggtctgagaacggtaatgtttgtgctggtttttgtggcatcgg\n",
      "gcgagaatagcgcgtggtgtgaaagactgtttttttgatcgttttcacaaaaatggaagtccacagtcttgacagggaaa\n",
      "atgcagcggcgtagcttttatgctgtatataaaaccagtggttatatgtacagtatttatttttaacttattgttttaaa\n",
      "agtcaaagaggattttataatggaaaccgcggtagcgtactataaagatggtgttccttatgatgataagggacaggtaa\n",
      "ttattactcttttgaatggtactcctgacgggagtggctctggcggcggaggtggaaaaggaggcagtaaaagtgaaagt\n",
      "tctgcagctattcatgcaactgctaaatggtctactgctcaattaaagaaaacacaggcagagcaggctgcccgggcaaa\n",
      "agctgcagcggaagcacaggcgaaagcaaaggcaaacagggatgcgctgactcagcgcctgaaggatatcgtgaatgagg\n",
      "ctcttcgtcacaatgcctcacgtacgccttcagcaacagagcttgctcatgctaataatgcagctatgcaggcggaagca\n",
      "gagcgtttgcgccttgcgaaagcagaagaaaaagcccgtaaagaagcggaagcagcagaaaaggcttttcaggaagcaga\n",
      "acaacgacgtaaagagattgaacgggagaaggctgaaacagaacgccagttgaaactggctgaagctgaagagaaacgac\n",
      "tggctgcattgagtgaagaagctaaagctgttgagatcgcccaaaaaaaactttctgctgcacaatctgaagtggtgaaa\n",
      "atggatggagagattaagactctcaattctcgtttaagctccagtatccatgcccgtgatgcagaaatgaaaacgctcgc\n",
      "tggaaaacgaaatgaactggctcaggcatccgctaaatataaagaactggatgagctggtcaaaaaactatcaccaagag\n",
      "ccaatgatccgcttcagaaccgtcctttttttgaagcaaccagacgacgggttggggccggtaagattagagaagaaaaa\n",
      "caaaaacaggtaacagcatcagaaacacgtattaaccggataaatgctgatataactcagatccagaaggctatttctca\n",
      "ggtcagtaataatcgtaatgccggtatcgctcgtgttcatgaagctgaagaaaatttgaaaaaagcacagaataatctcc\n",
      "ttaattcacagattaaggatgctgttgatgcaacagttagcttttatcaaacgctgactgaaaaatatggtgaaaaatat\n",
      "tcgaaaatggcacaggaacttgctgataagtctaaaggtaagaaaatcggcaatgtgaatgaagctctcgctgcttttga\n",
      "aaaatacaaggatgttttaaataagaaattcagcaaagccgatcgtgatgctatttttaatgcgttggcatcggtgaagt\n",
      "atgatgactgggctaaacatttagatcagtttgccaagtacttgaagattacggggcatgtttcttttggatatgatgtg\n",
      "gtatctgatatcctaaaaattaaggatacaggtgactggaagccactatttcttacattagagaagaaagctgcagatgc\n",
      "aggggtgagttatgttgttgctttactttttagcttgcttgctggaactacattaggtatttggggtattgctattgtta\n",
      "caggaa\n",
      "\n"
     ]
    }
   ],
   "source": [
    "my_file = open(\"dna.txt\")\n",
    "file_contents = my_file.read()\n",
    "print(file_contents)"
   ]
  },
  {
   "cell_type": "code",
   "execution_count": 4,
   "metadata": {
    "collapsed": true
   },
   "outputs": [],
   "source": [
    "apple = \"dna.txt\"\n",
    "banana = open(apple)\n",
    "grape = banana.read()"
   ]
  },
  {
   "cell_type": "code",
   "execution_count": 5,
   "metadata": {
    "collapsed": false
   },
   "outputs": [
    {
     "ename": "AttributeError",
     "evalue": "'str' object has no attribute 'read'",
     "output_type": "error",
     "traceback": [
      "\u001b[0;31m---------------------------------------------------------------------------\u001b[0m",
      "\u001b[0;31mAttributeError\u001b[0m                            Traceback (most recent call last)",
      "\u001b[0;32m<ipython-input-5-dc52d34f7217>\u001b[0m in \u001b[0;36m<module>\u001b[0;34m()\u001b[0m\n\u001b[1;32m      1\u001b[0m \u001b[0mmy_file_name\u001b[0m \u001b[0;34m=\u001b[0m \u001b[0;34m\"dna.txt\"\u001b[0m\u001b[0;34m\u001b[0m\u001b[0m\n\u001b[0;32m----> 2\u001b[0;31m \u001b[0mmy_contents\u001b[0m \u001b[0;34m=\u001b[0m \u001b[0mmy_file_name\u001b[0m\u001b[0;34m.\u001b[0m\u001b[0mread\u001b[0m\u001b[0;34m(\u001b[0m\u001b[0;34m)\u001b[0m\u001b[0;34m\u001b[0m\u001b[0m\n\u001b[0m",
      "\u001b[0;31mAttributeError\u001b[0m: 'str' object has no attribute 'read'"
     ]
    }
   ],
   "source": [
    "my_file_name = \"dna.txt\"\n",
    "my_contents = my_file_name.read()"
   ]
  },
  {
   "cell_type": "code",
   "execution_count": 6,
   "metadata": {
    "collapsed": false
   },
   "outputs": [
    {
     "name": "stdout",
     "output_type": "stream",
     "text": [
      "<_io.TextIOWrapper name='dna.txt' mode='r' encoding='UTF-8'>\n"
     ]
    }
   ],
   "source": [
    "my_file_name = \"dna.txt\"\n",
    "my_file = open(my_file_name)\n",
    "print(my_file)"
   ]
  },
  {
   "cell_type": "code",
   "execution_count": 7,
   "metadata": {
    "collapsed": false
   },
   "outputs": [
    {
     "name": "stdout",
     "output_type": "stream",
     "text": [
      "sequence is ttctatgctcctatattgataagaataaacttaatactataaatgaggtgttagggatttaattattctttattgatata\n",
      "aaaagtcctagcaatccaaatgggattgctaggaccaaacaaagtagattatatagcataaataggtttaattttgctac\n",
      "gggggcgttatttaggttttttcttctttcgaaaaaatctttctttatgaagttaaaagctatgtattcaatagcatatt\n",
      "ttgaatatggacatagaatagtgcttatcactattgcatatagcatcttatctgacacaaggaaataatacccttcgctg\n",
      "ttttttgttataaggtatatatatataagtgtgcagtacaggccaaataaaatattttttatgtagtatcttaagctcat\n",
      "aaattaaacctcgccatatattcttttcattttataaggatcgagttatgaggaaaagattttttgtgggaatattcgcg\n",
      "ataaacctccttgttggatgtcaggctaactatatacctgatgttcagggagggaccatcgcaccatcctcctcttctaa\n",
      "actgacggggatcgcggttcagtagaaaagattaaaggatcttcttgagatcctttttttctgcgcgtaatctgctgctt\n",
      "gcaaacaaaaaaaccaccgctaccaacggtggtttgtttgccggatcaagagctaccaactctttttccgaaggtaactg\n",
      "gcttcagcagagcgcagataccaaatactgtccttctagtgtagccgtagtcgggccactacttcaagaactctgtagca\n",
      "ccgtttgtgccatcatcgctctgctaatccggttaccagtggctgctgccagtggcgttaaggcgtgccttaccgggttg\n",
      "gactcaagacgatagttaccggataaggcgcagcggtcgggctgaacggggggttcgtgcacacagcccagcttggagcg\n",
      "aacgacctacaccgaactgagataccaacagcgtgagctatgagaaagcgccacgcttcccgaagggagaaaggcggaca\n",
      "ggtatccggtaagcggcagggtcggaacaggagagcgcacgagggagcttccagggggaaacgcctggtagctttatagt\n",
      "cctgtcgggtttcgccacctctgacttgagcgtctatttttgtgatgctcgtcaggggggcggagcctatggaaaaacgc\n",
      "ctgctacgtggccttcttcctgttcctggtcttttgctcacatgttctttccggccttatcccctgattctgtggataac\n",
      "tgtgttaccgtttttgtgtgagtcagtaccgctcgccgcagtcgaacgaccgagcgtagcgagtcagtgagcgaggaagc\n",
      "ggaaaagcgcctggacgtgcattttctccttacgcatctgtgcggcatttcacacccggcatggcgtacttttcatacaa\n",
      "tccgcactgatgccgcatggttaagccagtatacactccgctatcgctacgtgactgggtcagggctgcgccccgacacc\n",
      "cgctaaaacctgctgacgcgccctgacgggcttgtcagctcccggcatccgctcacagacaagctgtgaccgtctccggg\n",
      "agctgcatgtgtcagaggttttcaccgtcatccccgaaacgtgcgaggcagctgcggtaaagctcatcggcgtggtcgtg\n",
      "aagcgattcacaaatatcggcctgttcatctgcgtccagttcgttgagcttctccagcagcgttaatgtctggcttctga\n",
      "taaagcgggccatgttaagggcggttttttcctgtttagtcactgatgcctccgtgtaagggggatttctgttcatgggg\n",
      "taatgataccgatgaaacgcgagaggatgctcacaatacgggttactgatgatgaacatgcccggttacttgaacgctgt\n",
      "gagggtaaacaactggcggtatggatgcggcgggtctgcctgggggagccggttgcccgttccggaaaactgccgacact\n",
      "ggcaccgccgttactgcgtcagctggccgccatcggaaataacctgaatcagacagcccgtaaggtgaacagcgggcagt\n",
      "ggtcttccggtgaccgggttcaggtggtggccgcactgatggccatcggggatgagctgcgccggctgcgtctggctgtc\n",
      "agggaacagggggcgcgggatgatagttaaatttcatgccaggggaaaaggtggtggcagtggtccggttgattacctgc\n",
      "tggggagggagcgtaaccgcgaaggcgcaacggtgcttcagggtataccggaagaagtccgggaactcatcgatgccacg\n",
      "ccatttgcgaagaaatacacgtccggtgttctgtcgttcgcggagaaggagctgccgccgggaggacgtgaaaaagtgat\n",
      "ggcgagctttgagcgtgtactgatgcccggtctcgaaaaaaatcagtacagcatcctgtgggtggagcaccaggacaagg\n",
      "gacggcttgagctgaattttgtcattccgaacatggagctacagaccggaaaacgcctccagccgtactacgaccgcgca\n",
      "gacaggcctagaattgatgcttggcagacgctgttaaatcaccattacgggctgcatgacccgaacgccccggagaaccg\n",
      "caggacgctgacactccctgataacctgcctgaaacgaaacaggcgcttgctgagggcgtcacgcgaggtatagatgcac\n",
      "tttaccatgccggagagataaaaggccgtcaggatgtgattcaggcgctcactgaggcggggctggaagtggtcagggtg\n",
      "acgcgaagcagtatcagcattgcagatccgaacggcgggaagaatatcaggctgaaaggagcattttatgagcaatcttt\n",
      "tgcagacgggcgcggagttcgagaaaaagctgaaagagagagccgaatctacagagaaaatgctgaacaacgagttcagg\n",
      "aggctcggcgaatctgtaagcgaggctgtgacatcaaacgagacgaaaatcagagacgctatagccctgttcacagcctc\n",
      "gacagaggaatcgctggaaaaacaccgggaaggggtgaaagaggcgatgatgcagcacaggagggacgtgttaaagctgg\n",
      "cagggaatacgggcatgatgttactggggatagtctttctcctgtttaccgcgagtggcgggacgctctggtatcttgga\n",
      "gggaggatacaggcgaacctggaagaaatcaggaagcaggaagagacattgcagaaactgaacgcgaagacatggggcgt\n",
      "ggagtttgtgcaggacgggaacaggaaattccttgtccttccgtacgggaaatcagcggaggtgattccctttcagggga\n",
      "aagagtgggtacatctgaaggagtgacacagagtgacagagctggaaacacatttgctgaacgccttagagcagctgcaa\n",
      "caggactatatgcagcggctgagcgaatgggagagcgccttcgtggaattgcagaagatgttttcgcttacgcaacggga\n",
      "caacgcgatgctgaacgagcgggtcatgcagttgagtcagcaggtgcaacacttgagcgagcagacagaacgcttgagcc\n",
      "agttatacagcgagaactggagataagagaggaacggctgatacaggagcgcgaacatgtgttatccctagaacgggagc\n",
      "gtcagccggaaatacaggaacgcacgctggatggcccttcgctgggatggtgaaaccatgaaaaatggcagcttcagtgg\n",
      "attaagtgggggtaatgtggcctgtaccctctggttgcataggtattcatacggttaaaatttatcaggcgcgatcgcgc\n",
      "agtttttagggtggtttgttgccatttttacctgtctgctgccgtgatcgcgctgaacgcgttttagcggtgcgtacaat\n",
      "taagggattatggtaaatccacttactgtctgccctcgtagccatcgagataaaccgcagaaatcgtgtcagccagcagc\n",
      "ctggattttttcggggtaaggtctttgctgcggtaatcagtacccgcaaattgagttgtgccccggagtgagtttaaaaa\n",
      "ttcttggctgtgaaactgctgaatgcgttgttgcacatcactccgtgattttcctgtcgctttgtctttagctcccatat\n",
      "cccagaactgccgaaaaaaaggcaccatcattcgtgttgtgtcggctttttgggtggaaaagttgggatcaaaaccgtca\n",
      "tcagaagcatatacgtaatgccgggtatgttgttccacgctgccctttggggtacaggctgtgagagctactgttgctgt\n",
      "tatcatggcgataagacaaagtttgtttccggtacgtctcatgagtgtctccctaccttaaagtatttattctcggtgag\n",
      "ttattatccgaagactattttatcatcagtctctgacagcgttcagcgaccgaacaacctggaccagaatccccgtttct\n",
      "tttccagttccagtgcctgcctgagctgggctatctcattttgtagctgttcccgttctgcttcctggcgtctgcgatcc\n",
      "atatcctgtgcctgtttatcctcaagcatcagcgtcaggcattgtttcagctcattcagttcccggagaatgcgttctgt\n",
      "ctgctgatcatgtggattttctgcatgtccctcactgtgcctttctggtgtctcattctgctttaattcgccgtatgccc\n",
      "ggatcagttcactggtttcaaactcccgtcgtccgtccctgccggtacggtaactgacaaggcctccgcgcatatcacgg\n",
      "taaaactgtgaacgcgatctgcctgtcatttttagtgcgtcccggagtgtgtgccatgccataaagtgacagtgtcccat\n",
      "agatgtctcatctcatagtttcagtaaaacataatgaggtctgagaacggtaatgtttgtgctggtttttgtggcatcgg\n",
      "gcgagaatagcgcgtggtgtgaaagactgtttttttgatcgttttcacaaaaatggaagtccacagtcttgacagggaaa\n",
      "atgcagcggcgtagcttttatgctgtatataaaaccagtggttatatgtacagtatttatttttaacttattgttttaaa\n",
      "agtcaaagaggattttataatggaaaccgcggtagcgtactataaagatggtgttccttatgatgataagggacaggtaa\n",
      "ttattactcttttgaatggtactcctgacgggagtggctctggcggcggaggtggaaaaggaggcagtaaaagtgaaagt\n",
      "tctgcagctattcatgcaactgctaaatggtctactgctcaattaaagaaaacacaggcagagcaggctgcccgggcaaa\n",
      "agctgcagcggaagcacaggcgaaagcaaaggcaaacagggatgcgctgactcagcgcctgaaggatatcgtgaatgagg\n",
      "ctcttcgtcacaatgcctcacgtacgccttcagcaacagagcttgctcatgctaataatgcagctatgcaggcggaagca\n",
      "gagcgtttgcgccttgcgaaagcagaagaaaaagcccgtaaagaagcggaagcagcagaaaaggcttttcaggaagcaga\n",
      "acaacgacgtaaagagattgaacgggagaaggctgaaacagaacgccagttgaaactggctgaagctgaagagaaacgac\n",
      "tggctgcattgagtgaagaagctaaagctgttgagatcgcccaaaaaaaactttctgctgcacaatctgaagtggtgaaa\n",
      "atggatggagagattaagactctcaattctcgtttaagctccagtatccatgcccgtgatgcagaaatgaaaacgctcgc\n",
      "tggaaaacgaaatgaactggctcaggcatccgctaaatataaagaactggatgagctggtcaaaaaactatcaccaagag\n",
      "ccaatgatccgcttcagaaccgtcctttttttgaagcaaccagacgacgggttggggccggtaagattagagaagaaaaa\n",
      "caaaaacaggtaacagcatcagaaacacgtattaaccggataaatgctgatataactcagatccagaaggctatttctca\n",
      "ggtcagtaataatcgtaatgccggtatcgctcgtgttcatgaagctgaagaaaatttgaaaaaagcacagaataatctcc\n",
      "ttaattcacagattaaggatgctgttgatgcaacagttagcttttatcaaacgctgactgaaaaatatggtgaaaaatat\n",
      "tcgaaaatggcacaggaacttgctgataagtctaaaggtaagaaaatcggcaatgtgaatgaagctctcgctgcttttga\n",
      "aaaatacaaggatgttttaaataagaaattcagcaaagccgatcgtgatgctatttttaatgcgttggcatcggtgaagt\n",
      "atgatgactgggctaaacatttagatcagtttgccaagtacttgaagattacggggcatgtttcttttggatatgatgtg\n",
      "gtatctgatatcctaaaaattaaggatacaggtgactggaagccactatttcttacattagagaagaaagctgcagatgc\n",
      "aggggtgagttatgttgttgctttactttttagcttgcttgctggaactacattaggtatttggggtattgctattgtta\n",
      "caggaa\n",
      " and length is 6730\n"
     ]
    }
   ],
   "source": [
    "# open the file\n",
    "my_file = open(\"dna.txt\")\n",
    "# read the contents\n",
    "my_dna = my_file.read()\n",
    "# calculate the length\n",
    "dna_length = len(my_dna)\n",
    "# print the output\n",
    "print(\"sequence is \" + my_dna + \" and length is \" + str(dna_length))"
   ]
  },
  {
   "cell_type": "code",
   "execution_count": 8,
   "metadata": {
    "collapsed": false
   },
   "outputs": [
    {
     "name": "stdout",
     "output_type": "stream",
     "text": [
      "sequence is ttctatgctcctatattgataagaataaacttaatactataaatgaggtgttagggatttaattattctttattgatata\n",
      "aaaagtcctagcaatccaaatgggattgctaggaccaaacaaagtagattatatagcataaataggtttaattttgctac\n",
      "gggggcgttatttaggttttttcttctttcgaaaaaatctttctttatgaagttaaaagctatgtattcaatagcatatt\n",
      "ttgaatatggacatagaatagtgcttatcactattgcatatagcatcttatctgacacaaggaaataatacccttcgctg\n",
      "ttttttgttataaggtatatatatataagtgtgcagtacaggccaaataaaatattttttatgtagtatcttaagctcat\n",
      "aaattaaacctcgccatatattcttttcattttataaggatcgagttatgaggaaaagattttttgtgggaatattcgcg\n",
      "ataaacctccttgttggatgtcaggctaactatatacctgatgttcagggagggaccatcgcaccatcctcctcttctaa\n",
      "actgacggggatcgcggttcagtagaaaagattaaaggatcttcttgagatcctttttttctgcgcgtaatctgctgctt\n",
      "gcaaacaaaaaaaccaccgctaccaacggtggtttgtttgccggatcaagagctaccaactctttttccgaaggtaactg\n",
      "gcttcagcagagcgcagataccaaatactgtccttctagtgtagccgtagtcgggccactacttcaagaactctgtagca\n",
      "ccgtttgtgccatcatcgctctgctaatccggttaccagtggctgctgccagtggcgttaaggcgtgccttaccgggttg\n",
      "gactcaagacgatagttaccggataaggcgcagcggtcgggctgaacggggggttcgtgcacacagcccagcttggagcg\n",
      "aacgacctacaccgaactgagataccaacagcgtgagctatgagaaagcgccacgcttcccgaagggagaaaggcggaca\n",
      "ggtatccggtaagcggcagggtcggaacaggagagcgcacgagggagcttccagggggaaacgcctggtagctttatagt\n",
      "cctgtcgggtttcgccacctctgacttgagcgtctatttttgtgatgctcgtcaggggggcggagcctatggaaaaacgc\n",
      "ctgctacgtggccttcttcctgttcctggtcttttgctcacatgttctttccggccttatcccctgattctgtggataac\n",
      "tgtgttaccgtttttgtgtgagtcagtaccgctcgccgcagtcgaacgaccgagcgtagcgagtcagtgagcgaggaagc\n",
      "ggaaaagcgcctggacgtgcattttctccttacgcatctgtgcggcatttcacacccggcatggcgtacttttcatacaa\n",
      "tccgcactgatgccgcatggttaagccagtatacactccgctatcgctacgtgactgggtcagggctgcgccccgacacc\n",
      "cgctaaaacctgctgacgcgccctgacgggcttgtcagctcccggcatccgctcacagacaagctgtgaccgtctccggg\n",
      "agctgcatgtgtcagaggttttcaccgtcatccccgaaacgtgcgaggcagctgcggtaaagctcatcggcgtggtcgtg\n",
      "aagcgattcacaaatatcggcctgttcatctgcgtccagttcgttgagcttctccagcagcgttaatgtctggcttctga\n",
      "taaagcgggccatgttaagggcggttttttcctgtttagtcactgatgcctccgtgtaagggggatttctgttcatgggg\n",
      "taatgataccgatgaaacgcgagaggatgctcacaatacgggttactgatgatgaacatgcccggttacttgaacgctgt\n",
      "gagggtaaacaactggcggtatggatgcggcgggtctgcctgggggagccggttgcccgttccggaaaactgccgacact\n",
      "ggcaccgccgttactgcgtcagctggccgccatcggaaataacctgaatcagacagcccgtaaggtgaacagcgggcagt\n",
      "ggtcttccggtgaccgggttcaggtggtggccgcactgatggccatcggggatgagctgcgccggctgcgtctggctgtc\n",
      "agggaacagggggcgcgggatgatagttaaatttcatgccaggggaaaaggtggtggcagtggtccggttgattacctgc\n",
      "tggggagggagcgtaaccgcgaaggcgcaacggtgcttcagggtataccggaagaagtccgggaactcatcgatgccacg\n",
      "ccatttgcgaagaaatacacgtccggtgttctgtcgttcgcggagaaggagctgccgccgggaggacgtgaaaaagtgat\n",
      "ggcgagctttgagcgtgtactgatgcccggtctcgaaaaaaatcagtacagcatcctgtgggtggagcaccaggacaagg\n",
      "gacggcttgagctgaattttgtcattccgaacatggagctacagaccggaaaacgcctccagccgtactacgaccgcgca\n",
      "gacaggcctagaattgatgcttggcagacgctgttaaatcaccattacgggctgcatgacccgaacgccccggagaaccg\n",
      "caggacgctgacactccctgataacctgcctgaaacgaaacaggcgcttgctgagggcgtcacgcgaggtatagatgcac\n",
      "tttaccatgccggagagataaaaggccgtcaggatgtgattcaggcgctcactgaggcggggctggaagtggtcagggtg\n",
      "acgcgaagcagtatcagcattgcagatccgaacggcgggaagaatatcaggctgaaaggagcattttatgagcaatcttt\n",
      "tgcagacgggcgcggagttcgagaaaaagctgaaagagagagccgaatctacagagaaaatgctgaacaacgagttcagg\n",
      "aggctcggcgaatctgtaagcgaggctgtgacatcaaacgagacgaaaatcagagacgctatagccctgttcacagcctc\n",
      "gacagaggaatcgctggaaaaacaccgggaaggggtgaaagaggcgatgatgcagcacaggagggacgtgttaaagctgg\n",
      "cagggaatacgggcatgatgttactggggatagtctttctcctgtttaccgcgagtggcgggacgctctggtatcttgga\n",
      "gggaggatacaggcgaacctggaagaaatcaggaagcaggaagagacattgcagaaactgaacgcgaagacatggggcgt\n",
      "ggagtttgtgcaggacgggaacaggaaattccttgtccttccgtacgggaaatcagcggaggtgattccctttcagggga\n",
      "aagagtgggtacatctgaaggagtgacacagagtgacagagctggaaacacatttgctgaacgccttagagcagctgcaa\n",
      "caggactatatgcagcggctgagcgaatgggagagcgccttcgtggaattgcagaagatgttttcgcttacgcaacggga\n",
      "caacgcgatgctgaacgagcgggtcatgcagttgagtcagcaggtgcaacacttgagcgagcagacagaacgcttgagcc\n",
      "agttatacagcgagaactggagataagagaggaacggctgatacaggagcgcgaacatgtgttatccctagaacgggagc\n",
      "gtcagccggaaatacaggaacgcacgctggatggcccttcgctgggatggtgaaaccatgaaaaatggcagcttcagtgg\n",
      "attaagtgggggtaatgtggcctgtaccctctggttgcataggtattcatacggttaaaatttatcaggcgcgatcgcgc\n",
      "agtttttagggtggtttgttgccatttttacctgtctgctgccgtgatcgcgctgaacgcgttttagcggtgcgtacaat\n",
      "taagggattatggtaaatccacttactgtctgccctcgtagccatcgagataaaccgcagaaatcgtgtcagccagcagc\n",
      "ctggattttttcggggtaaggtctttgctgcggtaatcagtacccgcaaattgagttgtgccccggagtgagtttaaaaa\n",
      "ttcttggctgtgaaactgctgaatgcgttgttgcacatcactccgtgattttcctgtcgctttgtctttagctcccatat\n",
      "cccagaactgccgaaaaaaaggcaccatcattcgtgttgtgtcggctttttgggtggaaaagttgggatcaaaaccgtca\n",
      "tcagaagcatatacgtaatgccgggtatgttgttccacgctgccctttggggtacaggctgtgagagctactgttgctgt\n",
      "tatcatggcgataagacaaagtttgtttccggtacgtctcatgagtgtctccctaccttaaagtatttattctcggtgag\n",
      "ttattatccgaagactattttatcatcagtctctgacagcgttcagcgaccgaacaacctggaccagaatccccgtttct\n",
      "tttccagttccagtgcctgcctgagctgggctatctcattttgtagctgttcccgttctgcttcctggcgtctgcgatcc\n",
      "atatcctgtgcctgtttatcctcaagcatcagcgtcaggcattgtttcagctcattcagttcccggagaatgcgttctgt\n",
      "ctgctgatcatgtggattttctgcatgtccctcactgtgcctttctggtgtctcattctgctttaattcgccgtatgccc\n",
      "ggatcagttcactggtttcaaactcccgtcgtccgtccctgccggtacggtaactgacaaggcctccgcgcatatcacgg\n",
      "taaaactgtgaacgcgatctgcctgtcatttttagtgcgtcccggagtgtgtgccatgccataaagtgacagtgtcccat\n",
      "agatgtctcatctcatagtttcagtaaaacataatgaggtctgagaacggtaatgtttgtgctggtttttgtggcatcgg\n",
      "gcgagaatagcgcgtggtgtgaaagactgtttttttgatcgttttcacaaaaatggaagtccacagtcttgacagggaaa\n",
      "atgcagcggcgtagcttttatgctgtatataaaaccagtggttatatgtacagtatttatttttaacttattgttttaaa\n",
      "agtcaaagaggattttataatggaaaccgcggtagcgtactataaagatggtgttccttatgatgataagggacaggtaa\n",
      "ttattactcttttgaatggtactcctgacgggagtggctctggcggcggaggtggaaaaggaggcagtaaaagtgaaagt\n",
      "tctgcagctattcatgcaactgctaaatggtctactgctcaattaaagaaaacacaggcagagcaggctgcccgggcaaa\n",
      "agctgcagcggaagcacaggcgaaagcaaaggcaaacagggatgcgctgactcagcgcctgaaggatatcgtgaatgagg\n",
      "ctcttcgtcacaatgcctcacgtacgccttcagcaacagagcttgctcatgctaataatgcagctatgcaggcggaagca\n",
      "gagcgtttgcgccttgcgaaagcagaagaaaaagcccgtaaagaagcggaagcagcagaaaaggcttttcaggaagcaga\n",
      "acaacgacgtaaagagattgaacgggagaaggctgaaacagaacgccagttgaaactggctgaagctgaagagaaacgac\n",
      "tggctgcattgagtgaagaagctaaagctgttgagatcgcccaaaaaaaactttctgctgcacaatctgaagtggtgaaa\n",
      "atggatggagagattaagactctcaattctcgtttaagctccagtatccatgcccgtgatgcagaaatgaaaacgctcgc\n",
      "tggaaaacgaaatgaactggctcaggcatccgctaaatataaagaactggatgagctggtcaaaaaactatcaccaagag\n",
      "ccaatgatccgcttcagaaccgtcctttttttgaagcaaccagacgacgggttggggccggtaagattagagaagaaaaa\n",
      "caaaaacaggtaacagcatcagaaacacgtattaaccggataaatgctgatataactcagatccagaaggctatttctca\n",
      "ggtcagtaataatcgtaatgccggtatcgctcgtgttcatgaagctgaagaaaatttgaaaaaagcacagaataatctcc\n",
      "ttaattcacagattaaggatgctgttgatgcaacagttagcttttatcaaacgctgactgaaaaatatggtgaaaaatat\n",
      "tcgaaaatggcacaggaacttgctgataagtctaaaggtaagaaaatcggcaatgtgaatgaagctctcgctgcttttga\n",
      "aaaatacaaggatgttttaaataagaaattcagcaaagccgatcgtgatgctatttttaatgcgttggcatcggtgaagt\n",
      "atgatgactgggctaaacatttagatcagtttgccaagtacttgaagattacggggcatgtttcttttggatatgatgtg\n",
      "gtatctgatatcctaaaaattaaggatacaggtgactggaagccactatttcttacattagagaagaaagctgcagatgc\n",
      "aggggtgagttatgttgttgctttactttttagcttgcttgctggaactacattaggtatttggggtattgctattgtta\n",
      "caggaa and length is 6729\n"
     ]
    }
   ],
   "source": [
    "my_file = open(\"dna.txt\")\n",
    "my_file_contents = my_file.read()\n",
    "# remove the newline from the end of the file contents\n",
    "my_dna = my_file_contents.rstrip(\"\\n\")\n",
    "dna_length = len(my_dna)\n",
    "print(\"sequence is \" + my_dna + \" and length is \" + str(dna_length))"
   ]
  },
  {
   "cell_type": "code",
   "execution_count": 9,
   "metadata": {
    "collapsed": true
   },
   "outputs": [],
   "source": [
    "my_file_contents = my_file.read()\n",
    "my_dna = my_file_contents.rstrip(\"\\n\")"
   ]
  },
  {
   "cell_type": "code",
   "execution_count": 10,
   "metadata": {
    "collapsed": true
   },
   "outputs": [],
   "source": [
    "my_dna = my_file.read().rstrip(\"\\n\")"
   ]
  },
  {
   "cell_type": "code",
   "execution_count": 11,
   "metadata": {
    "collapsed": false
   },
   "outputs": [
    {
     "ename": "FileNotFoundError",
     "evalue": "[Errno 2] No such file or directory: 'nonexistent.txt'",
     "output_type": "error",
     "traceback": [
      "\u001b[0;31m---------------------------------------------------------------------------\u001b[0m",
      "\u001b[0;31mFileNotFoundError\u001b[0m                         Traceback (most recent call last)",
      "\u001b[0;32m<ipython-input-11-0f5a58825b22>\u001b[0m in \u001b[0;36m<module>\u001b[0;34m()\u001b[0m\n\u001b[0;32m----> 1\u001b[0;31m \u001b[0mmy_file\u001b[0m \u001b[0;34m=\u001b[0m \u001b[0mopen\u001b[0m\u001b[0;34m(\u001b[0m\u001b[0;34m\"nonexistent.txt\"\u001b[0m\u001b[0;34m)\u001b[0m\u001b[0;34m\u001b[0m\u001b[0m\n\u001b[0m",
      "\u001b[0;31mFileNotFoundError\u001b[0m: [Errno 2] No such file or directory: 'nonexistent.txt'"
     ]
    }
   ],
   "source": [
    "my_file = open(\"nonexistent.txt\")"
   ]
  },
  {
   "cell_type": "code",
   "execution_count": 12,
   "metadata": {
    "collapsed": false
   },
   "outputs": [
    {
     "data": {
      "text/plain": [
       "11"
      ]
     },
     "execution_count": 12,
     "metadata": {},
     "output_type": "execute_result"
    }
   ],
   "source": [
    "my_file = open(\"out.txt\", \"w\")\n",
    "my_file.write(\"Hello world\")"
   ]
  },
  {
   "cell_type": "code",
   "execution_count": 13,
   "metadata": {
    "collapsed": false
   },
   "outputs": [
    {
     "ename": "NameError",
     "evalue": "name 'my_variable' is not defined",
     "output_type": "error",
     "traceback": [
      "\u001b[0;31m---------------------------------------------------------------------------\u001b[0m",
      "\u001b[0;31mNameError\u001b[0m                                 Traceback (most recent call last)",
      "\u001b[0;32m<ipython-input-13-ee3f22d8414d>\u001b[0m in \u001b[0;36m<module>\u001b[0;34m()\u001b[0m\n\u001b[1;32m      8\u001b[0m \u001b[0mmy_file\u001b[0m\u001b[0;34m.\u001b[0m\u001b[0mwrite\u001b[0m\u001b[0;34m(\u001b[0m\u001b[0;34m\"ATGC\"\u001b[0m\u001b[0;34m.\u001b[0m\u001b[0mlower\u001b[0m\u001b[0;34m(\u001b[0m\u001b[0;34m)\u001b[0m\u001b[0;34m)\u001b[0m\u001b[0;34m\u001b[0m\u001b[0m\n\u001b[1;32m      9\u001b[0m \u001b[0;31m# write contents of my_variable\u001b[0m\u001b[0;34m\u001b[0m\u001b[0;34m\u001b[0m\u001b[0m\n\u001b[0;32m---> 10\u001b[0;31m \u001b[0mmy_file\u001b[0m\u001b[0;34m.\u001b[0m\u001b[0mwrite\u001b[0m\u001b[0;34m(\u001b[0m\u001b[0mmy_variable\u001b[0m\u001b[0;34m)\u001b[0m\u001b[0;34m\u001b[0m\u001b[0m\n\u001b[0m",
      "\u001b[0;31mNameError\u001b[0m: name 'my_variable' is not defined"
     ]
    }
   ],
   "source": [
    "# write \"abcdef\"\n",
    "my_file.write(\"abc\" + \"def\")\n",
    "# write \"8\"\n",
    "my_file.write(str(len('AGTGCTAG')))\n",
    "# write \"TTGC\"\n",
    "my_file.write(\"ATGC\".replace('A', 'T'))\n",
    "# write \"atgc\"\n",
    "my_file.write(\"ATGC\".lower())\n",
    "# write contents of my_variable\n",
    "my_file.write(my_variable)"
   ]
  },
  {
   "cell_type": "code",
   "execution_count": 14,
   "metadata": {
    "collapsed": false
   },
   "outputs": [
    {
     "data": {
      "text/plain": [
       "6"
      ]
     },
     "execution_count": 14,
     "metadata": {},
     "output_type": "execute_result"
    }
   ],
   "source": [
    "my_file.write(\"abc\" + \"def\")"
   ]
  },
  {
   "cell_type": "code",
   "execution_count": 15,
   "metadata": {
    "collapsed": true
   },
   "outputs": [],
   "source": [
    "MY_VARIABLE=\"abc\""
   ]
  },
  {
   "cell_type": "code",
   "execution_count": 16,
   "metadata": {
    "collapsed": false
   },
   "outputs": [
    {
     "ename": "NameError",
     "evalue": "name 'my_variable' is not defined",
     "output_type": "error",
     "traceback": [
      "\u001b[0;31m---------------------------------------------------------------------------\u001b[0m",
      "\u001b[0;31mNameError\u001b[0m                                 Traceback (most recent call last)",
      "\u001b[0;32m<ipython-input-16-ee3f22d8414d>\u001b[0m in \u001b[0;36m<module>\u001b[0;34m()\u001b[0m\n\u001b[1;32m      8\u001b[0m \u001b[0mmy_file\u001b[0m\u001b[0;34m.\u001b[0m\u001b[0mwrite\u001b[0m\u001b[0;34m(\u001b[0m\u001b[0;34m\"ATGC\"\u001b[0m\u001b[0;34m.\u001b[0m\u001b[0mlower\u001b[0m\u001b[0;34m(\u001b[0m\u001b[0;34m)\u001b[0m\u001b[0;34m)\u001b[0m\u001b[0;34m\u001b[0m\u001b[0m\n\u001b[1;32m      9\u001b[0m \u001b[0;31m# write contents of my_variable\u001b[0m\u001b[0;34m\u001b[0m\u001b[0;34m\u001b[0m\u001b[0m\n\u001b[0;32m---> 10\u001b[0;31m \u001b[0mmy_file\u001b[0m\u001b[0;34m.\u001b[0m\u001b[0mwrite\u001b[0m\u001b[0;34m(\u001b[0m\u001b[0mmy_variable\u001b[0m\u001b[0;34m)\u001b[0m\u001b[0;34m\u001b[0m\u001b[0m\n\u001b[0m",
      "\u001b[0;31mNameError\u001b[0m: name 'my_variable' is not defined"
     ]
    }
   ],
   "source": [
    "# write \"abcdef\"\n",
    "my_file.write(\"abc\" + \"def\")\n",
    "# write \"8\"\n",
    "my_file.write(str(len('AGTGCTAG')))\n",
    "# write \"TTGC\"\n",
    "my_file.write(\"ATGC\".replace('A', 'T'))\n",
    "# write \"atgc\"\n",
    "my_file.write(\"ATGC\".lower())\n",
    "# write contents of my_variable\n",
    "my_file.write(my_variable)"
   ]
  },
  {
   "cell_type": "code",
   "execution_count": 17,
   "metadata": {
    "collapsed": false
   },
   "outputs": [
    {
     "data": {
      "text/plain": [
       "3"
      ]
     },
     "execution_count": 17,
     "metadata": {},
     "output_type": "execute_result"
    }
   ],
   "source": [
    "# write \"abcdef\"\n",
    "my_file.write(\"abc\" + \"def\")\n",
    "# write \"8\"\n",
    "my_file.write(str(len('AGTGCTAG')))\n",
    "# write \"TTGC\"\n",
    "my_file.write(\"ATGC\".replace('A', 'T'))\n",
    "# write \"atgc\"\n",
    "my_file.write(\"ATGC\".lower())\n",
    "# write contents of my_variable\n",
    "my_variable='abc'\n",
    "my_file.write(my_variable)"
   ]
  },
  {
   "cell_type": "code",
   "execution_count": 18,
   "metadata": {
    "collapsed": true
   },
   "outputs": [],
   "source": [
    "my_file = open(\"out.txt\", \"w\")\n",
    "my_file.write(\"Hello world\")\n",
    "# remember to close the file\n",
    "my_file.close()\n"
   ]
  },
  {
   "cell_type": "code",
   "execution_count": 19,
   "metadata": {
    "collapsed": true
   },
   "outputs": [],
   "source": [
    "my_file = open(\"/Users/vrkrishn/Documents/Spring 2017/Programming for Biologist/dna.txt\")"
   ]
  },
  {
   "cell_type": "code",
   "execution_count": null,
   "metadata": {
    "collapsed": true
   },
   "outputs": [],
   "source": []
  }
 ],
 "metadata": {
  "kernelspec": {
   "display_name": "Python 3",
   "language": "python",
   "name": "python3"
  },
  "language_info": {
   "codemirror_mode": {
    "name": "ipython",
    "version": 3
   },
   "file_extension": ".py",
   "mimetype": "text/x-python",
   "name": "python",
   "nbconvert_exporter": "python",
   "pygments_lexer": "ipython3",
   "version": "3.6.0"
  }
 },
 "nbformat": 4,
 "nbformat_minor": 2
}
